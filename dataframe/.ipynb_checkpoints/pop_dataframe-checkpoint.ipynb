{
 "cells": [
  {
   "cell_type": "code",
   "execution_count": 2,
   "id": "64ba1147",
   "metadata": {},
   "outputs": [
    {
     "name": "stderr",
     "output_type": "stream",
     "text": [
      "/usr/local/lib/python3.6/dist-packages/numba/core/errors.py:154: UserWarning: Insufficiently recent colorama version found. Numba requires colorama >= 0.3.9\n",
      "  warnings.warn(msg)\n"
     ]
    }
   ],
   "source": [
    "#sudo apt-get install python3-pandas\n",
    "import pandas as pd\n",
    "import numpy as np\n",
    "import re\n",
    "import os\n",
    "import librosa\n",
    "import IPython.display as ipd\n",
    "import matplotlib.pyplot as plt\n",
    "import librosa.display\n",
    "\n",
    "#음원 중 특정 부분만 잘라내는 함수 #사용x\n",
    "def split_wav(data, sample_rate, start, end):\n",
    "    start *= sample_rate\n",
    "    end *= sample_rate\n",
    "    return data[start:end]"
   ]
  },
  {
   "cell_type": "code",
   "execution_count": 3,
   "id": "8ae6ae49",
   "metadata": {},
   "outputs": [],
   "source": [
    "path = '/home/ubuntu/DA'\n",
    "\n",
    "file_list = os.listdir(path)\n",
    "file_list\n",
    "\n",
    "os.chdir('/home/ubuntu/DA/dataframe')"
   ]
  },
  {
   "cell_type": "code",
   "execution_count": 15,
   "id": "64181a8a",
   "metadata": {},
   "outputs": [
    {
     "name": "stdout",
     "output_type": "stream",
     "text": [
      "                                                song genre\n",
      "0  Maroon 5 - Sugar (Official Music Video)-09R8_2...   pop\n",
      "1   Carly Rae Jepsen - Call Me Maybe-fWNaR-rxAic.mp3   pop\n",
      "2  Sia - Chandelier (Official Video)-2vjPBrBU-TM.mp3   pop\n",
      "3  Mark Ronson - Uptown Funk (Official Video) ft....   pop\n",
      "4  Ed Sheeran - Shape of You (Official Music Vide...   pop\n",
      "5  Wiz Khalifa - See You Again ft. Charlie Puth [...   pop\n",
      "6                          The Wanted - Glad You.mp3   pop\n",
      "7  Cheryl Cole - Fight For This Love (Official Vi...   pop\n"
     ]
    }
   ],
   "source": [
    "#빈 데이터프레임 생성\n",
    "pop_df = pd.DataFrame(columns = ['song', 'genre'])\n",
    "pop_df\n",
    "\n",
    "#음원 데이터프레임 생성\n",
    "pop_file_list = os.listdir(path+ '/' + 'pop')\n",
    "\n",
    "for i in range(len(pop_file_list)):\n",
    "    pop_df = pop_df.append(pd.DataFrame([[pop_file_list[i], 'pop']],\n",
    "                                    columns = ['song', 'genre']),\n",
    "                       ignore_index = True)\n",
    "\n",
    "print(pop_df)    "
   ]
  },
  {
   "cell_type": "code",
   "execution_count": 16,
   "id": "c353c52a",
   "metadata": {},
   "outputs": [
    {
     "name": "stdout",
     "output_type": "stream",
     "text": [
      "                                                song genre\n",
      "0  Maroon 5 - Sugar (Official Music Video)-09R8_2...   pop\n",
      "1   Carly Rae Jepsen - Call Me Maybe-fWNaR-rxAic.mp3   pop\n",
      "2  Sia - Chandelier (Official Video)-2vjPBrBU-TM.mp3   pop\n",
      "3  Mark Ronson - Uptown Funk (Official Video) ft....   pop\n",
      "4  Ed Sheeran - Shape of You (Official Music Vide...   pop\n",
      "5  Wiz Khalifa - See You Again ft. Charlie Puth [...   pop\n",
      "6                          The Wanted - Glad You.mp3   pop\n",
      "7  Cheryl Cole - Fight For This Love (Official Vi...   pop\n"
     ]
    }
   ],
   "source": [
    "#데이터프레임 갱신\n",
    "for i in range(0,len(pop_file_list)):\n",
    "    if pop_df.iloc[i,0] in pop_file_list == True:\n",
    "        continue\n",
    "else: pop_df.append(pd.DataFrame([[pop_file_list[i], 'pop']],\n",
    "                                columns = ['song', 'genre']),\n",
    "                   ignore_index = True)\n",
    "print(pop_df)        "
   ]
  },
  {
   "cell_type": "code",
   "execution_count": 18,
   "id": "f74f05a3",
   "metadata": {},
   "outputs": [
    {
     "name": "stdout",
     "output_type": "stream",
     "text": [
      "0            Maroon 5  \n",
      "1    Carly Rae Jepsen  \n",
      "2                 Sia  \n",
      "3         Mark Ronson  \n",
      "4          Ed Sheeran  \n",
      "5         Wiz Khalifa  \n",
      "6          The Wanted  \n",
      "7         Cheryl Cole  \n",
      "Name: singer, dtype: object\n",
      "--------------------------------------------\n",
      "0                             Sugar \n",
      "1                      Call Me Maybe\n",
      "2                        Chandelier \n",
      "3                       Uptown Funk \n",
      "4                      Shape of You \n",
      "5    See You Again ft. Charlie Puth \n",
      "6                           Glad You\n",
      "7               Fight For This Love \n",
      "Name: title, dtype: object\n"
     ]
    }
   ],
   "source": [
    "#title, genre 컬럼 생성\n",
    "for i in range(len(pop_df)):\n",
    "    pop_df['song'].iloc[i] = pop_df['song'].iloc[i].replace(' _ ', ' - ', 1)\n",
    "    pop_df['song'].iloc[i] = pop_df['song'].iloc[i].replace('- ', ' - ', 1)\n",
    "    pop_df['song'].iloc[i] = pop_df['song'].iloc[i].replace('[MV]', '', 1)\n",
    "\n",
    "pop_df['singer'] = pop_df['song'].str.split(' - ').str[0]\n",
    "print(pop_df['singer'], end = '\\n--------------------------------------------\\n')\n",
    "\n",
    "pop_df['title'] = pop_df['song'].str.split(' - ').str[1]\n",
    "\n",
    "for i in range(len(pop_df)):\n",
    "    if pop_df['title'].str.contains('Feat|feat|Prod|ft')[i] == True:\n",
    "        continue\n",
    "else:\n",
    "    pop_df['title'].iloc[i] = re.sub(r'\\([^)]*\\)', '', pop_df['title'].iloc[i])\n",
    "    pop_df['title'] = pop_df['title'].str.split('.mp3').str[0] \n",
    "    pop_df['title'] = pop_df['title'].str.split('-').str[0]\n",
    "    pop_df['title'] = pop_df['title'].str.split('가사').str[0]\n",
    "    pop_df['title'] = pop_df['title'].str.split('[').str[0] \n",
    "    pop_df['title'] = pop_df['title'].str.split('Official').str[0]\n",
    "    pop_df['title'] = pop_df['title'].str.split('(').str[0] \n",
    "\n",
    "print(pop_df['title'])"
   ]
  },
  {
   "cell_type": "code",
   "execution_count": null,
   "id": "efa5fcc5",
   "metadata": {},
   "outputs": [
    {
     "name": "stderr",
     "output_type": "stream",
     "text": [
      "/usr/local/lib/python3.6/dist-packages/librosa/core/audio.py:162: UserWarning: PySoundFile failed. Trying audioread instead.\n",
      "  warnings.warn(\"PySoundFile failed. Trying audioread instead.\")\n"
     ]
    }
   ],
   "source": [
    "#BPM 추출\n",
    "bpm = []\n",
    "\n",
    "for i in range(len(pop_file_list)):\n",
    "    y, sr = librosa.load('/home/ubuntu/DA/pop/'+ pop_file_list[i])\n",
    "    y = split_wav(y, sr, 0, 60)\n",
    "    tempo, _ = librosa.beat.beat_track(y, sr)\n",
    "    bpm.append(tempo)\n",
    "\n",
    "pop_df['tempo1'] = pd.DataFrame(bpm)"
   ]
  },
  {
   "cell_type": "code",
   "execution_count": null,
   "id": "52ab4429",
   "metadata": {},
   "outputs": [],
   "source": [
    "#BPM 추출\n",
    "bpm = []\n",
    "\n",
    "for i in range(len(pop_file_list)):\n",
    "    y, sr = librosa.load('/home/ubuntu/DA/pop/'+ pop_file_list[i])\n",
    "    y = split_wav(y, sr, 60, 120)\n",
    "    tempo, _ = librosa.beat.beat_track(y, sr)\n",
    "    bpm.append(tempo)\n",
    "\n",
    "pop_df['tempo2'] = pd.DataFrame(bpm)\n",
    "\n",
    "#FT (푸리에 변환)\n",
    "#시간 영역 데이터를 주파수 영역으로 변경\n",
    "#y축: 주파수(로그 스케일)\n",
    "#푸리에 변환을 한 후 곡 별산술통계량을 내어보자."
   ]
  },
  {
   "cell_type": "code",
   "execution_count": null,
   "id": "b84f4dde",
   "metadata": {},
   "outputs": [],
   "source": [
    "mean_ft = []\n",
    "var_ft = []\n",
    "\n",
    "for i in range(len(pop_file_list)):\n",
    "    y, sr = librosa.load('/home/ubuntu/DA/pop/'+ pop_file_list[i])\n",
    "    y = split_wav(y, sr, 0, 60)\n",
    "    D = np.abs(librosa.stft(y, n_fft = 2048, hop_length = 512))\n",
    "    mean_D = np.mean(D)\n",
    "    mean_ft.append(mean_D)\n",
    "    var_D = np.var(D)\n",
    "    var_ft.append(var_D)\n",
    "\n",
    "pop_df['mean_ft1'] = pd.DataFrame(mean_ft)\n",
    "pop_df['var_ft1'] = pd.DataFrame(var_ft)"
   ]
  },
  {
   "cell_type": "code",
   "execution_count": 1,
   "id": "86387cb0",
   "metadata": {},
   "outputs": [
    {
     "ename": "NameError",
     "evalue": "name 'pop_file_list' is not defined",
     "output_type": "error",
     "traceback": [
      "\u001b[0;31m---------------------------------------------------------------------------\u001b[0m",
      "\u001b[0;31mNameError\u001b[0m                                 Traceback (most recent call last)",
      "\u001b[0;32m<ipython-input-1-eeece7d21151>\u001b[0m in \u001b[0;36m<module>\u001b[0;34m\u001b[0m\n\u001b[1;32m      7\u001b[0m \u001b[0mvar_ft\u001b[0m \u001b[0;34m=\u001b[0m \u001b[0;34m[\u001b[0m\u001b[0;34m]\u001b[0m\u001b[0;34m\u001b[0m\u001b[0;34m\u001b[0m\u001b[0m\n\u001b[1;32m      8\u001b[0m \u001b[0;34m\u001b[0m\u001b[0m\n\u001b[0;32m----> 9\u001b[0;31m \u001b[0;32mfor\u001b[0m \u001b[0mi\u001b[0m \u001b[0;32min\u001b[0m \u001b[0mrange\u001b[0m\u001b[0;34m(\u001b[0m\u001b[0mlen\u001b[0m\u001b[0;34m(\u001b[0m\u001b[0mpop_file_list\u001b[0m\u001b[0;34m)\u001b[0m\u001b[0;34m)\u001b[0m\u001b[0;34m:\u001b[0m\u001b[0;34m\u001b[0m\u001b[0;34m\u001b[0m\u001b[0m\n\u001b[0m\u001b[1;32m     10\u001b[0m     \u001b[0my\u001b[0m\u001b[0;34m,\u001b[0m \u001b[0msr\u001b[0m \u001b[0;34m=\u001b[0m \u001b[0mlibrosa\u001b[0m\u001b[0;34m.\u001b[0m\u001b[0mload\u001b[0m\u001b[0;34m(\u001b[0m\u001b[0;34m'/home/ubuntu/DA/pop/'\u001b[0m\u001b[0;34m+\u001b[0m \u001b[0mpop_file_list\u001b[0m\u001b[0;34m[\u001b[0m\u001b[0mi\u001b[0m\u001b[0;34m]\u001b[0m\u001b[0;34m)\u001b[0m\u001b[0;34m\u001b[0m\u001b[0;34m\u001b[0m\u001b[0m\n\u001b[1;32m     11\u001b[0m     \u001b[0my\u001b[0m \u001b[0;34m=\u001b[0m \u001b[0msplit_wav\u001b[0m\u001b[0;34m(\u001b[0m\u001b[0my\u001b[0m\u001b[0;34m,\u001b[0m \u001b[0msr\u001b[0m\u001b[0;34m,\u001b[0m \u001b[0;36m60\u001b[0m\u001b[0;34m,\u001b[0m \u001b[0;36m120\u001b[0m\u001b[0;34m)\u001b[0m\u001b[0;34m\u001b[0m\u001b[0;34m\u001b[0m\u001b[0m\n",
      "\u001b[0;31mNameError\u001b[0m: name 'pop_file_list' is not defined"
     ]
    }
   ],
   "source": [
    "#FT (푸리에 변환)\n",
    "#시간 영역 데이터를 주파수 영역으로 변경\n",
    "#y축: 주파수(로그 스케일)\n",
    "#푸리에 변환을 한 후 곡 별산술통계량을 내어보자.\n",
    "\n",
    "mean_ft = []\n",
    "var_ft = []\n",
    "\n",
    "for i in range(len(pop_file_list)):\n",
    "    y, sr = librosa.load('/home/ubuntu/DA/pop/'+ pop_file_list[i])\n",
    "    y = split_wav(y, sr, 60, 120)\n",
    "    D = np.abs(librosa.stft(y, n_fft = 2048, hop_length = 512))\n",
    "    mean_D = np.mean(D)\n",
    "    mean_ft.append(mean_D)\n",
    "    var_D = np.var(D)\n",
    "    var_ft.append(var_D)\n",
    "\n",
    "pop_df['mean_ft2'] = pd.DataFrame(mean_ft)\n",
    "pop_df['var_ft2'] = pd.DataFrame(var_ft)"
   ]
  },
  {
   "cell_type": "code",
   "execution_count": null,
   "id": "7a102ed9",
   "metadata": {},
   "outputs": [],
   "source": [
    "mean_mel = []\n",
    "var_mel = []\n",
    "\n",
    "for i in range(len(pop_file_list)):\n",
    "    y, sr = librosa.load('/home/ubuntu/DA/pop/'+ pop_file_list[i])\n",
    "    y = split_wav(y, sr, 0, 60)\n",
    "    s = librosa.feature.melspectrogram(y, sr)\n",
    "    s_DB = librosa.amplitude_to_db(s, ref = np.max)\n",
    "    mean_s_DB = np.mean(s_DB)\n",
    "    mean_mel.append(mean_s_DB)\n",
    "    var_s_DB = np.var(s_DB)\n",
    "    var_mel.append(var_s_DB)\n",
    "\n",
    "pop_df['mean_mel1'] = pd.DataFrame(mean_mel)\n",
    "pop_df['var_mel1'] = pd.DataFrame(var_mel)"
   ]
  },
  {
   "cell_type": "code",
   "execution_count": null,
   "id": "91e43e58",
   "metadata": {},
   "outputs": [],
   "source": [
    "mean_mel = []\n",
    "var_mel = []\n",
    "\n",
    "for i in range(len(pop_file_list)):\n",
    "    y, sr = librosa.load('/home/ubuntu/DA/pop/'+ pop_file_list[i])\n",
    "    y = split_wav(y, sr, 60, 120)\n",
    "    s = librosa.feature.melspectrogram(y, sr)\n",
    "    s_DB = librosa.amplitude_to_db(s, ref = np.max)\n",
    "    mean_s_DB = np.mean(s_DB)\n",
    "    mean_mel.append(mean_s_DB)\n",
    "    var_s_DB = np.var(s_DB)\n",
    "    var_mel.append(var_s_DB)\n",
    "\n",
    "pop_df['mean_mel2'] = pd.DataFrame(mean_mel)\n",
    "pop_df['var_mel2'] = pd.DataFrame(var_mel)"
   ]
  },
  {
   "cell_type": "code",
   "execution_count": null,
   "id": "05277877",
   "metadata": {},
   "outputs": [],
   "source": [
    "#Harmonic and Percussive components\n",
    "#Harmonics: 사람의 귀로 구분할 수 없는 특징들 (음악의 색깔)\n",
    "#음악의 색깔은 평균 추출\n",
    "#Percussives: 리듬과 감정을 나타내는 충격파\n",
    "#충격파는 min과 max를 추출\n",
    "mean_h = []\n",
    "var_h = []\n",
    "mean_p = []\n",
    "var_p = []\n",
    "\n",
    "for i in range(len(pop_file_list)):\n",
    "    y, sr = librosa.load('/home/ubuntu/DA/pop/'+ pop_file_list[i])\n",
    "    y = split_wav(y, sr, 0, 60)\n",
    "    harm, perc = librosa.effects.hpss(y)\n",
    "    mean_h.append(np.mean(harm))\n",
    "    var_h.append(np.var(harm))\n",
    "    mean_p.append(np.mean(perc))\n",
    "    var_p.append(np.var(perc))\n",
    "\n",
    "pop_df['mean_harm1'] = pd.DataFrame(mean_h)\n",
    "pop_df['var_harm1'] = pd.DataFrame(var_h)\n",
    "pop_df['mean_perc1'] = pd.DataFrame(mean_p)\n",
    "pop_df['var_perc1'] = pd.DataFrame(var_p)"
   ]
  },
  {
   "cell_type": "code",
   "execution_count": null,
   "id": "8db10d0b",
   "metadata": {},
   "outputs": [],
   "source": [
    "#Harmonic and Percussive components\n",
    "#Harmonics: 사람의 귀로 구분할 수 없는 특징들 (음악의 색깔)\n",
    "#음악의 색깔은 평균 추출\n",
    "#Percussives: 리듬과 감정을 나타내는 충격파\n",
    "#충격파는 min과 max를 추출\n",
    "mean_h = []\n",
    "var_h = []\n",
    "mean_p = []\n",
    "var_p = []\n",
    "\n",
    "for i in range(len(pop_file_list)):\n",
    "    y, sr = librosa.load('/home/ubuntu/DA/pop/'+ pop_file_list[i])\n",
    "    y = split_wav(y, sr, 60, 120)\n",
    "    harm, perc = librosa.effects.hpss(y)\n",
    "    mean_h.append(np.mean(harm))\n",
    "    var_h.append(np.var(harm))\n",
    "    mean_p.append(np.mean(perc))\n",
    "    var_p.append(np.var(perc))\n",
    "\n",
    "pop_df['mean_harm2'] = pd.DataFrame(mean_h)\n",
    "pop_df['var_harm2'] = pd.DataFrame(var_h)\n",
    "pop_df['mean_perc2'] = pd.DataFrame(mean_p)\n",
    "pop_df['var_perc2'] = pd.DataFrame(var_p)"
   ]
  },
  {
   "cell_type": "code",
   "execution_count": null,
   "id": "c6fad4a0",
   "metadata": {},
   "outputs": [],
   "source": [
    "#Spectral Centroid: 주파수의 가중편균을 계산하여 소리의 무게중심이 어딘지를 알려주는 지표\n",
    "import sklearn\n",
    "def normalize(x, axis = 0):\n",
    "    return sklearn.preprocessing.minmax_scale(x, axis = axis)\n",
    "\n",
    "spectral_centroid_mean = []\n",
    "spectral_centroid_var = []\n",
    "\n",
    "for i in range(len(pop_file_list)):\n",
    "    y, sr = librosa.load('/home/ubuntu/DA/pop/'+ pop_file_list[i])\n",
    "    y = split_wav(y, sr, 0, 60)\n",
    "    sc = librosa.feature.spectral_centroid(y, sr)[0]\n",
    "    spectral_centroid_mean.append(np.mean(normalize(sc)))\n",
    "    spectral_centroid_var.append(np.var(normalize(sc)))\n",
    "\n",
    "pop_df['mean_sc1'] = pd.DataFrame(spectral_centroid_mean)\n",
    "pop_df['var_sc1'] = pd.DataFrame(spectral_centroid_var)  "
   ]
  },
  {
   "cell_type": "code",
   "execution_count": null,
   "id": "61c14351",
   "metadata": {},
   "outputs": [],
   "source": [
    "#Spectral Centroid: 주파수의 가중편균을 계산하여 소리의 무게중심이 어딘지를 알려주는 지표\n",
    "import sklearn\n",
    "def normalize(x, axis = 0):\n",
    "    return sklearn.preprocessing.minmax_scale(x, axis = axis)\n",
    "\n",
    "spectral_centroid_mean = []\n",
    "spectral_centroid_var = []\n",
    "\n",
    "for i in range(len(pop_file_list)):\n",
    "    y, sr = librosa.load('/home/ubuntu/DA/pop/'+ pop_file_list[i])\n",
    "    y = split_wav(y, sr, 60, 120)\n",
    "    sc = librosa.feature.spectral_centroid(y, sr)[0]\n",
    "    spectral_centroid_mean.append(np.mean(normalize(sc)))\n",
    "    spectral_centroid_var.append(np.var(normalize(sc)))\n",
    "\n",
    "pop_df['mean_sc2'] = pd.DataFrame(spectral_centroid_mean)\n",
    "pop_df['var_sc2'] = pd.DataFrame(spectral_centroid_var)  "
   ]
  },
  {
   "cell_type": "code",
   "execution_count": null,
   "id": "b456a785",
   "metadata": {},
   "outputs": [],
   "source": [
    "#Chroma Frequencies\n",
    "#인간 청각이 옥타브 차이가 나는 주파수를 가진 두 음을 유사음으로 인지한다는 음악이론에 기반한다.\n",
    "#모든 스펙트럼을 12개의 Bin(각기 다른 반음)으로 표현\n",
    "\n",
    "mean_c = []\n",
    "var_c = []\n",
    "\n",
    "for i in range(len(pop_file_list)):\n",
    "    y, sr = librosa.load('/home/ubuntu/DA/pop/'+ pop_file_list[i])\n",
    "    y = split_wav(y, sr, 0, 60)\n",
    "    c = librosa.feature.chroma_stft(y, sr, hop_length = 512)\n",
    "    mean_c.append(np.mean(c))\n",
    "    var_c.append(np.var(c))\n",
    "\n",
    "pop_df['mean_chroma1'] = pd.DataFrame(mean_c)\n",
    "pop_df['var_chroma1'] = pd.DataFrame(var_c)"
   ]
  },
  {
   "cell_type": "code",
   "execution_count": null,
   "id": "ab4a882a",
   "metadata": {},
   "outputs": [],
   "source": [
    "#Chroma Frequencies\n",
    "#인간 청각이 옥타브 차이가 나는 주파수를 가진 두 음을 유사음으로 인지한다는 음악이론에 기반한다.\n",
    "#모든 스펙트럼을 12개의 Bin(각기 다른 반음)으로 표현\n",
    "\n",
    "mean_c = []\n",
    "var_c = []\n",
    "\n",
    "for i in range(len(pop_file_list)):\n",
    "    y, sr = librosa.load('/home/ubuntu/DA/pop/'+ pop_file_list[i])\n",
    "    y = split_wav(y, sr, 60, 120)\n",
    "    c = librosa.feature.chroma_stft(y, sr, hop_length = 512)\n",
    "    mean_c.append(np.mean(c))\n",
    "    var_c.append(np.var(c))\n",
    "\n",
    "pop_df['mean_chroma2'] = pd.DataFrame(mean_c)\n",
    "pop_df['var_chroma2'] = pd.DataFrame(var_c)"
   ]
  },
  {
   "cell_type": "code",
   "execution_count": null,
   "id": "894f9501",
   "metadata": {},
   "outputs": [],
   "source": [
    "#MFCCs\n",
    "#특징들의 작은 집합으로 스펙트럼 포곡선의 전체적인 모양을 축약해서 보여준다.\n",
    "#사람의 청각 구조를 반영하여 음성 정보 추출\n",
    "\n",
    "mean_m = []\n",
    "var_m = []\n",
    "\n",
    "for i in range(len(pop_file_list)):\n",
    "    y, sr = librosa.load('/home/ubuntu/DA/pop/'+ pop_file_list[i])\n",
    "    y = split_wav(y, sr, 0, 60)\n",
    "    mfccs = librosa.feature.mfcc(y, sr)\n",
    "    mfccs = normalize(mfccs, axis = 1)\n",
    "    mean_m.append(mfccs.mean())\n",
    "    var_m.append(mfccs.var())\n",
    "\n",
    "pop_df['mean_mfccs1'] = pd.DataFrame(mean_m)\n",
    "pop_df['var_mfccs1'] = pd.DataFrame(var_m)"
   ]
  },
  {
   "cell_type": "code",
   "execution_count": null,
   "id": "aa9da5a2",
   "metadata": {},
   "outputs": [],
   "source": [
    "#MFCCs\n",
    "#특징들의 작은 집합으로 스펙트럼 포곡선의 전체적인 모양을 축약해서 보여준다.\n",
    "#사람의 청각 구조를 반영하여 음성 정보 추출\n",
    "\n",
    "mean_m = []\n",
    "var_m = []\n",
    "\n",
    "for i in range(len(pop_file_list)):\n",
    "    y, sr = librosa.load('/home/ubuntu/DA/pop/'+ pop_file_list[i])\n",
    "    y = split_wav(y, sr, 60, 120)\n",
    "    mfccs = librosa.feature.mfcc(y, sr)\n",
    "    mfccs = normalize(mfccs, axis = 1)\n",
    "    mean_m.append(mfccs.mean())\n",
    "    var_m.append(mfccs.var())\n",
    "\n",
    "pop_df['mean_mfccs2'] = pd.DataFrame(mean_m)\n",
    "pop_df['var_mfccs2'] = pd.DataFrame(var_m)"
   ]
  },
  {
   "cell_type": "code",
   "execution_count": null,
   "id": "dc54f2ec",
   "metadata": {},
   "outputs": [],
   "source": [
    "#zero crossing rate\n",
    "zero_crossings_mean = []\n",
    "zero_crossings_var = []\n",
    "\n",
    "for i in range(len(pop_file_list)):\n",
    "    y, sr = librosa.load('/home/ubuntu/DA/pop/'+ pop_file_list[i])\n",
    "    y = split_wav(y, sr, 0, 60)\n",
    "    zc = librosa.zero_crossings(y, pad = False)\n",
    "    zero_crossings_mean.append(np.mean(zc))\n",
    "    zero_crossings_var.append(np.var(zc))\n",
    "\n",
    "pop_df['zero_crossings_mean1'] = pd.DataFrame(zero_crossings_mean)    \n",
    "pop_df['zero_crossings_var1'] = pd.DataFrame(zero_crossings_var) "
   ]
  },
  {
   "cell_type": "code",
   "execution_count": null,
   "id": "70800aa0",
   "metadata": {},
   "outputs": [],
   "source": [
    "#zero crossing rate\n",
    "zero_crossings_mean = []\n",
    "zero_crossings_var = []\n",
    "\n",
    "for i in range(len(pop_file_list)):\n",
    "    y, sr = librosa.load('/home/ubuntu/DA/pop/'+ pop_file_list[i])\n",
    "    y = split_wav(y, sr, 60, 120)\n",
    "    zc = librosa.zero_crossings(y, pad = False)\n",
    "    zero_crossings_mean.append(np.mean(zc))\n",
    "    zero_crossings_var.append(np.var(zc))\n",
    "\n",
    "pop_df['zero_crossings_mean2'] = pd.DataFrame(zero_crossings_mean)    \n",
    "pop_df['zero_crossings_var2'] = pd.DataFrame(zero_crossings_var)  "
   ]
  }
 ],
 "metadata": {
  "kernelspec": {
   "display_name": "Python 3",
   "language": "python",
   "name": "python3"
  },
  "language_info": {
   "codemirror_mode": {
    "name": "ipython",
    "version": 3
   },
   "file_extension": ".py",
   "mimetype": "text/x-python",
   "name": "python",
   "nbconvert_exporter": "python",
   "pygments_lexer": "ipython3",
   "version": "3.6.9"
  }
 },
 "nbformat": 4,
 "nbformat_minor": 5
}
