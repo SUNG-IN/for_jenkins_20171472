{
 "cells": [
  {
   "cell_type": "code",
   "execution_count": 1,
   "id": "f30c98ff",
   "metadata": {},
   "outputs": [
    {
     "name": "stderr",
     "output_type": "stream",
     "text": [
      "/usr/local/lib/python3.6/dist-packages/numba/core/errors.py:154: UserWarning: Insufficiently recent colorama version found. Numba requires colorama >= 0.3.9\n",
      "  warnings.warn(msg)\n"
     ]
    }
   ],
   "source": [
    "#sudo apt-get install python3-pandas\n",
    "import pandas as pd\n",
    "import numpy as np\n",
    "import re\n",
    "import os\n",
    "import librosa\n",
    "import IPython.display as ipd\n",
    "import matplotlib.pyplot as plt\n",
    "import librosa.display\n",
    "\n",
    "#음원 중 특정 부분만 잘라내는 함수 #사용x\n",
    "def split_wav(data, sample_rate, start, end):\n",
    "    start *= sample_rate\n",
    "    end *= sample_rate\n",
    "    return data[start:end]"
   ]
  },
  {
   "cell_type": "code",
   "execution_count": 11,
   "id": "1719dc23",
   "metadata": {},
   "outputs": [],
   "source": [
    "path = '/home/ubuntu/DA'\n",
    "\n",
    "file_list = os.listdir(path)\n",
    "file_list\n",
    "\n",
    "os.chdir('/home/ubuntu/DA/dataframe')"
   ]
  },
  {
   "cell_type": "code",
   "execution_count": 16,
   "id": "d1eed8a7",
   "metadata": {},
   "outputs": [
    {
     "name": "stdout",
     "output_type": "stream",
     "text": [
      "                        song genre\n",
      "0    TWICE - KNOCK KNOCK.mp3  kpop\n",
      "1          BIGBANG - 맨정신.mp3  kpop\n",
      "2  블랙핑크(BLACKPINK) - 불장난.mp3  kpop\n",
      "3                 숀 - 습관.mp3  kpop\n",
      "4              마마무 - HIP.mp3  kpop\n",
      "5      BIGBANG - 에라 모르겠다.mp3  kpop\n",
      "6               선미 - 주인공.mp3  kpop\n",
      "7       마마무 -  Piano Man.mp3  kpop\n"
     ]
    }
   ],
   "source": [
    "#빈 데이터프레임 생성\n",
    "kpop_df = pd.DataFrame(columns = ['song', 'genre'])\n",
    "kpop_df\n",
    "\n",
    "#음원 데이터프레임 생성\n",
    "kpop_file_list = os.listdir(path+ '/' + 'k-pop')\n",
    "\n",
    "for i in range(len(kpop_file_list)):\n",
    "    kpop_df = kpop_df.append(pd.DataFrame([[kpop_file_list[i], 'k-pop']],\n",
    "                                    columns = ['song', 'genre']),\n",
    "                       ignore_index = True)\n",
    "\n",
    "print(kpop_df)    "
   ]
  },
  {
   "cell_type": "code",
   "execution_count": 17,
   "id": "0141bbec",
   "metadata": {},
   "outputs": [
    {
     "name": "stdout",
     "output_type": "stream",
     "text": [
      "                        song genre\n",
      "0    TWICE - KNOCK KNOCK.mp3  kpop\n",
      "1          BIGBANG - 맨정신.mp3  kpop\n",
      "2  블랙핑크(BLACKPINK) - 불장난.mp3  kpop\n",
      "3                 숀 - 습관.mp3  kpop\n",
      "4              마마무 - HIP.mp3  kpop\n",
      "5      BIGBANG - 에라 모르겠다.mp3  kpop\n",
      "6               선미 - 주인공.mp3  kpop\n",
      "7       마마무 -  Piano Man.mp3  kpop\n"
     ]
    }
   ],
   "source": [
    "#데이터프레임 갱신\n",
    "for i in range(0,len(kpop_file_list)):\n",
    "    if kpop_df.iloc[i,0] in kpop_file_list == True:\n",
    "        continue\n",
    "    else: kpop_df.append(pd.DataFrame([[kpop_file_list[i], 'kpop']],\n",
    "                                columns = ['song', 'genre']),\n",
    "                   ignore_index = True)\n",
    "print(kpop_df)        "
   ]
  },
  {
   "cell_type": "code",
   "execution_count": 18,
   "id": "7c9292aa",
   "metadata": {},
   "outputs": [
    {
     "name": "stdout",
     "output_type": "stream",
     "text": [
      "0              TWICE \n",
      "1            BIGBANG \n",
      "2    블랙핑크(BLACKPINK) \n",
      "3                  숀 \n",
      "4                마마무 \n",
      "5            BIGBANG \n",
      "6                 선미 \n",
      "7                마마무 \n",
      "Name: singer, dtype: object\n",
      "--------------------------------------------\n",
      "0    KNOCK KNOCK\n",
      "1            맨정신\n",
      "2            불장난\n",
      "3             습관\n",
      "4            HIP\n",
      "5        에라 모르겠다\n",
      "6            주인공\n",
      "7      Piano Man\n",
      "Name: title, dtype: object\n"
     ]
    }
   ],
   "source": [
    "#title, genre 컬럼 생성\n",
    "for i in range(len(kpop_df)):\n",
    "    kpop_df['song'].iloc[i] = kpop_df['song'].iloc[i].replace(' _ ', ' - ', 1)\n",
    "    kpop_df['song'].iloc[i] = kpop_df['song'].iloc[i].replace('- ', ' - ', 1)\n",
    "    kpop_df['song'].iloc[i] = kpop_df['song'].iloc[i].replace('[MV]', '', 1)\n",
    "\n",
    "kpop_df['singer'] = kpop_df['song'].str.split(' - ').str[0]\n",
    "print(kpop_df['singer'], end = '\\n--------------------------------------------\\n')\n",
    "\n",
    "kpop_df['title'] = kpop_df['song'].str.split(' - ').str[1]\n",
    "\n",
    "for i in range(len(kpop_df)):\n",
    "    if kpop_df['title'].str.contains('Feat|feat|Prod')[i] == True:\n",
    "        continue\n",
    "    else:\n",
    "        kpop_df['title'].iloc[i] = re.sub(r'\\([^)]*\\)', '', kpop_df['title'].iloc[i])\n",
    "\n",
    "kpop_df['title'] = kpop_df['title'].str.split('.mp3').str[0] \n",
    "kpop_df['title'] = kpop_df['title'].str.split('-').str[0]\n",
    "kpop_df['title'] = kpop_df['title'].str.split('가사').str[0]\n",
    "kpop_df['title'] = kpop_df['title'].str.split('[').str[0] \n",
    "kpop_df['title'] = kpop_df['title'].str.split('Official').str[0] \n",
    "\n",
    "print(kpop_df['title'])"
   ]
  },
  {
   "cell_type": "code",
   "execution_count": 20,
   "id": "91b3f1ca",
   "metadata": {},
   "outputs": [
    {
     "name": "stderr",
     "output_type": "stream",
     "text": [
      "/usr/local/lib/python3.6/dist-packages/librosa/core/audio.py:162: UserWarning: PySoundFile failed. Trying audioread instead.\n",
      "  warnings.warn(\"PySoundFile failed. Trying audioread instead.\")\n",
      "/usr/local/lib/python3.6/dist-packages/librosa/core/audio.py:162: UserWarning: PySoundFile failed. Trying audioread instead.\n",
      "  warnings.warn(\"PySoundFile failed. Trying audioread instead.\")\n",
      "/usr/local/lib/python3.6/dist-packages/librosa/core/audio.py:162: UserWarning: PySoundFile failed. Trying audioread instead.\n",
      "  warnings.warn(\"PySoundFile failed. Trying audioread instead.\")\n",
      "/usr/local/lib/python3.6/dist-packages/librosa/core/audio.py:162: UserWarning: PySoundFile failed. Trying audioread instead.\n",
      "  warnings.warn(\"PySoundFile failed. Trying audioread instead.\")\n",
      "/usr/local/lib/python3.6/dist-packages/librosa/core/audio.py:162: UserWarning: PySoundFile failed. Trying audioread instead.\n",
      "  warnings.warn(\"PySoundFile failed. Trying audioread instead.\")\n",
      "/usr/local/lib/python3.6/dist-packages/librosa/core/audio.py:162: UserWarning: PySoundFile failed. Trying audioread instead.\n",
      "  warnings.warn(\"PySoundFile failed. Trying audioread instead.\")\n",
      "/usr/local/lib/python3.6/dist-packages/librosa/core/audio.py:162: UserWarning: PySoundFile failed. Trying audioread instead.\n",
      "  warnings.warn(\"PySoundFile failed. Trying audioread instead.\")\n",
      "/usr/local/lib/python3.6/dist-packages/librosa/core/audio.py:162: UserWarning: PySoundFile failed. Trying audioread instead.\n",
      "  warnings.warn(\"PySoundFile failed. Trying audioread instead.\")\n"
     ]
    }
   ],
   "source": [
    "#BPM 추출\n",
    "bpm = []\n",
    "\n",
    "for i in range(len(kpop_file_list)):\n",
    "    y, sr = librosa.load('/home/ubuntu/DA/k-pop/'+ kpop_file_list[i])\n",
    "    y = split_wav(y, sr, 0, 60)\n",
    "    tempo, _ = librosa.beat.beat_track(y, sr)\n",
    "    bpm.append(tempo)\n",
    "\n",
    "kpop_df['tempo1'] = pd.DataFrame(bpm)"
   ]
  },
  {
   "cell_type": "code",
   "execution_count": 21,
   "id": "2f62140f",
   "metadata": {},
   "outputs": [
    {
     "name": "stderr",
     "output_type": "stream",
     "text": [
      "/usr/local/lib/python3.6/dist-packages/librosa/core/audio.py:162: UserWarning: PySoundFile failed. Trying audioread instead.\n",
      "  warnings.warn(\"PySoundFile failed. Trying audioread instead.\")\n",
      "/usr/local/lib/python3.6/dist-packages/librosa/core/audio.py:162: UserWarning: PySoundFile failed. Trying audioread instead.\n",
      "  warnings.warn(\"PySoundFile failed. Trying audioread instead.\")\n",
      "/usr/local/lib/python3.6/dist-packages/librosa/core/audio.py:162: UserWarning: PySoundFile failed. Trying audioread instead.\n",
      "  warnings.warn(\"PySoundFile failed. Trying audioread instead.\")\n",
      "/usr/local/lib/python3.6/dist-packages/librosa/core/audio.py:162: UserWarning: PySoundFile failed. Trying audioread instead.\n",
      "  warnings.warn(\"PySoundFile failed. Trying audioread instead.\")\n",
      "/usr/local/lib/python3.6/dist-packages/librosa/core/audio.py:162: UserWarning: PySoundFile failed. Trying audioread instead.\n",
      "  warnings.warn(\"PySoundFile failed. Trying audioread instead.\")\n",
      "/usr/local/lib/python3.6/dist-packages/librosa/core/audio.py:162: UserWarning: PySoundFile failed. Trying audioread instead.\n",
      "  warnings.warn(\"PySoundFile failed. Trying audioread instead.\")\n",
      "/usr/local/lib/python3.6/dist-packages/librosa/core/audio.py:162: UserWarning: PySoundFile failed. Trying audioread instead.\n",
      "  warnings.warn(\"PySoundFile failed. Trying audioread instead.\")\n",
      "/usr/local/lib/python3.6/dist-packages/librosa/core/audio.py:162: UserWarning: PySoundFile failed. Trying audioread instead.\n",
      "  warnings.warn(\"PySoundFile failed. Trying audioread instead.\")\n"
     ]
    }
   ],
   "source": [
    "#BPM 추출\n",
    "bpm = []\n",
    "\n",
    "for i in range(len(kpop_file_list)):\n",
    "    y, sr = librosa.load('/home/ubuntu/DA/k-pop/'+ kpop_file_list[i])\n",
    "    y = split_wav(y, sr, 60, 120)\n",
    "    tempo, _ = librosa.beat.beat_track(y, sr)\n",
    "    bpm.append(tempo)\n",
    "\n",
    "kpop_df['tempo2'] = pd.DataFrame(bpm)"
   ]
  },
  {
   "cell_type": "code",
   "execution_count": 22,
   "id": "093faaa3",
   "metadata": {},
   "outputs": [
    {
     "name": "stderr",
     "output_type": "stream",
     "text": [
      "/usr/local/lib/python3.6/dist-packages/librosa/core/audio.py:162: UserWarning: PySoundFile failed. Trying audioread instead.\n",
      "  warnings.warn(\"PySoundFile failed. Trying audioread instead.\")\n",
      "/usr/local/lib/python3.6/dist-packages/librosa/core/audio.py:162: UserWarning: PySoundFile failed. Trying audioread instead.\n",
      "  warnings.warn(\"PySoundFile failed. Trying audioread instead.\")\n",
      "/usr/local/lib/python3.6/dist-packages/librosa/core/audio.py:162: UserWarning: PySoundFile failed. Trying audioread instead.\n",
      "  warnings.warn(\"PySoundFile failed. Trying audioread instead.\")\n",
      "/usr/local/lib/python3.6/dist-packages/librosa/core/audio.py:162: UserWarning: PySoundFile failed. Trying audioread instead.\n",
      "  warnings.warn(\"PySoundFile failed. Trying audioread instead.\")\n",
      "/usr/local/lib/python3.6/dist-packages/librosa/core/audio.py:162: UserWarning: PySoundFile failed. Trying audioread instead.\n",
      "  warnings.warn(\"PySoundFile failed. Trying audioread instead.\")\n",
      "/usr/local/lib/python3.6/dist-packages/librosa/core/audio.py:162: UserWarning: PySoundFile failed. Trying audioread instead.\n",
      "  warnings.warn(\"PySoundFile failed. Trying audioread instead.\")\n",
      "/usr/local/lib/python3.6/dist-packages/librosa/core/audio.py:162: UserWarning: PySoundFile failed. Trying audioread instead.\n",
      "  warnings.warn(\"PySoundFile failed. Trying audioread instead.\")\n",
      "/usr/local/lib/python3.6/dist-packages/librosa/core/audio.py:162: UserWarning: PySoundFile failed. Trying audioread instead.\n",
      "  warnings.warn(\"PySoundFile failed. Trying audioread instead.\")\n"
     ]
    }
   ],
   "source": [
    "#FT (푸리에 변환)\n",
    "#시간 영역 데이터를 주파수 영역으로 변경\n",
    "#y축: 주파수(로그 스케일)\n",
    "#푸리에 변환을 한 후 곡 별산술통계량을 내어보자.\n",
    "\n",
    "mean_ft = []\n",
    "var_ft = []\n",
    "\n",
    "for i in range(len(kpop_file_list)):\n",
    "    y, sr = librosa.load('/home/ubuntu/DA/k-pop/'+ kpop_file_list[i])\n",
    "    y = split_wav(y, sr, 0, 60)\n",
    "    D = np.abs(librosa.stft(y, n_fft = 2048, hop_length = 512))\n",
    "    mean_D = np.mean(D)\n",
    "    mean_ft.append(mean_D)\n",
    "    var_D = np.var(D)\n",
    "    var_ft.append(var_D)\n",
    "\n",
    "kpop_df['mean_ft1'] = pd.DataFrame(mean_ft)\n",
    "kpop_df['var_ft1'] = pd.DataFrame(var_ft)"
   ]
  },
  {
   "cell_type": "code",
   "execution_count": 23,
   "id": "c02f4535",
   "metadata": {},
   "outputs": [
    {
     "name": "stderr",
     "output_type": "stream",
     "text": [
      "/usr/local/lib/python3.6/dist-packages/librosa/core/audio.py:162: UserWarning: PySoundFile failed. Trying audioread instead.\n",
      "  warnings.warn(\"PySoundFile failed. Trying audioread instead.\")\n",
      "/usr/local/lib/python3.6/dist-packages/librosa/core/audio.py:162: UserWarning: PySoundFile failed. Trying audioread instead.\n",
      "  warnings.warn(\"PySoundFile failed. Trying audioread instead.\")\n",
      "/usr/local/lib/python3.6/dist-packages/librosa/core/audio.py:162: UserWarning: PySoundFile failed. Trying audioread instead.\n",
      "  warnings.warn(\"PySoundFile failed. Trying audioread instead.\")\n",
      "/usr/local/lib/python3.6/dist-packages/librosa/core/audio.py:162: UserWarning: PySoundFile failed. Trying audioread instead.\n",
      "  warnings.warn(\"PySoundFile failed. Trying audioread instead.\")\n",
      "/usr/local/lib/python3.6/dist-packages/librosa/core/audio.py:162: UserWarning: PySoundFile failed. Trying audioread instead.\n",
      "  warnings.warn(\"PySoundFile failed. Trying audioread instead.\")\n",
      "/usr/local/lib/python3.6/dist-packages/librosa/core/audio.py:162: UserWarning: PySoundFile failed. Trying audioread instead.\n",
      "  warnings.warn(\"PySoundFile failed. Trying audioread instead.\")\n",
      "/usr/local/lib/python3.6/dist-packages/librosa/core/audio.py:162: UserWarning: PySoundFile failed. Trying audioread instead.\n",
      "  warnings.warn(\"PySoundFile failed. Trying audioread instead.\")\n",
      "/usr/local/lib/python3.6/dist-packages/librosa/core/audio.py:162: UserWarning: PySoundFile failed. Trying audioread instead.\n",
      "  warnings.warn(\"PySoundFile failed. Trying audioread instead.\")\n"
     ]
    }
   ],
   "source": [
    "#FT (푸리에 변환)\n",
    "#시간 영역 데이터를 주파수 영역으로 변경\n",
    "#y축: 주파수(로그 스케일)\n",
    "#푸리에 변환을 한 후 곡 별산술통계량을 내어보자.\n",
    "\n",
    "mean_ft = []\n",
    "var_ft = []\n",
    "\n",
    "for i in range(len(kpop_file_list)):\n",
    "    y, sr = librosa.load('/home/ubuntu/DA/k-pop/'+ kpop_file_list[i])\n",
    "    y = split_wav(y, sr, 60, 120)\n",
    "    D = np.abs(librosa.stft(y, n_fft = 2048, hop_length = 512))\n",
    "    mean_D = np.mean(D)\n",
    "    mean_ft.append(mean_D)\n",
    "    var_D = np.var(D)\n",
    "    var_ft.append(var_D)\n",
    "\n",
    "kpop_df['mean_ft2'] = pd.DataFrame(mean_ft)\n",
    "kpop_df['var_ft2'] = pd.DataFrame(var_ft)"
   ]
  },
  {
   "cell_type": "code",
   "execution_count": 24,
   "id": "abf21b21",
   "metadata": {},
   "outputs": [
    {
     "name": "stderr",
     "output_type": "stream",
     "text": [
      "/usr/local/lib/python3.6/dist-packages/librosa/core/audio.py:162: UserWarning: PySoundFile failed. Trying audioread instead.\n",
      "  warnings.warn(\"PySoundFile failed. Trying audioread instead.\")\n",
      "/usr/local/lib/python3.6/dist-packages/librosa/core/audio.py:162: UserWarning: PySoundFile failed. Trying audioread instead.\n",
      "  warnings.warn(\"PySoundFile failed. Trying audioread instead.\")\n",
      "/usr/local/lib/python3.6/dist-packages/librosa/core/audio.py:162: UserWarning: PySoundFile failed. Trying audioread instead.\n",
      "  warnings.warn(\"PySoundFile failed. Trying audioread instead.\")\n",
      "/usr/local/lib/python3.6/dist-packages/librosa/core/audio.py:162: UserWarning: PySoundFile failed. Trying audioread instead.\n",
      "  warnings.warn(\"PySoundFile failed. Trying audioread instead.\")\n",
      "/usr/local/lib/python3.6/dist-packages/librosa/core/audio.py:162: UserWarning: PySoundFile failed. Trying audioread instead.\n",
      "  warnings.warn(\"PySoundFile failed. Trying audioread instead.\")\n",
      "/usr/local/lib/python3.6/dist-packages/librosa/core/audio.py:162: UserWarning: PySoundFile failed. Trying audioread instead.\n",
      "  warnings.warn(\"PySoundFile failed. Trying audioread instead.\")\n",
      "/usr/local/lib/python3.6/dist-packages/librosa/core/audio.py:162: UserWarning: PySoundFile failed. Trying audioread instead.\n",
      "  warnings.warn(\"PySoundFile failed. Trying audioread instead.\")\n",
      "/usr/local/lib/python3.6/dist-packages/librosa/core/audio.py:162: UserWarning: PySoundFile failed. Trying audioread instead.\n",
      "  warnings.warn(\"PySoundFile failed. Trying audioread instead.\")\n"
     ]
    }
   ],
   "source": [
    "mean_mel = []\n",
    "var_mel = []\n",
    "\n",
    "for i in range(len(kpop_file_list)):\n",
    "    y, sr = librosa.load('/home/ubuntu/DA/k-pop/'+ kpop_file_list[i])\n",
    "    y = split_wav(y, sr, 0, 60)\n",
    "    s = librosa.feature.melspectrogram(y, sr)\n",
    "    s_DB = librosa.amplitude_to_db(s, ref = np.max)\n",
    "    mean_s_DB = np.mean(s_DB)\n",
    "    mean_mel.append(mean_s_DB)\n",
    "    var_s_DB = np.var(s_DB)\n",
    "    var_mel.append(var_s_DB)\n",
    "\n",
    "kpop_df['mean_mel1'] = pd.DataFrame(mean_mel)\n",
    "kpop_df['var_mel1'] = pd.DataFrame(var_mel)"
   ]
  },
  {
   "cell_type": "code",
   "execution_count": 25,
   "id": "af03362a",
   "metadata": {},
   "outputs": [
    {
     "name": "stderr",
     "output_type": "stream",
     "text": [
      "/usr/local/lib/python3.6/dist-packages/librosa/core/audio.py:162: UserWarning: PySoundFile failed. Trying audioread instead.\n",
      "  warnings.warn(\"PySoundFile failed. Trying audioread instead.\")\n",
      "/usr/local/lib/python3.6/dist-packages/librosa/core/audio.py:162: UserWarning: PySoundFile failed. Trying audioread instead.\n",
      "  warnings.warn(\"PySoundFile failed. Trying audioread instead.\")\n",
      "/usr/local/lib/python3.6/dist-packages/librosa/core/audio.py:162: UserWarning: PySoundFile failed. Trying audioread instead.\n",
      "  warnings.warn(\"PySoundFile failed. Trying audioread instead.\")\n",
      "/usr/local/lib/python3.6/dist-packages/librosa/core/audio.py:162: UserWarning: PySoundFile failed. Trying audioread instead.\n",
      "  warnings.warn(\"PySoundFile failed. Trying audioread instead.\")\n",
      "/usr/local/lib/python3.6/dist-packages/librosa/core/audio.py:162: UserWarning: PySoundFile failed. Trying audioread instead.\n",
      "  warnings.warn(\"PySoundFile failed. Trying audioread instead.\")\n",
      "/usr/local/lib/python3.6/dist-packages/librosa/core/audio.py:162: UserWarning: PySoundFile failed. Trying audioread instead.\n",
      "  warnings.warn(\"PySoundFile failed. Trying audioread instead.\")\n",
      "/usr/local/lib/python3.6/dist-packages/librosa/core/audio.py:162: UserWarning: PySoundFile failed. Trying audioread instead.\n",
      "  warnings.warn(\"PySoundFile failed. Trying audioread instead.\")\n",
      "/usr/local/lib/python3.6/dist-packages/librosa/core/audio.py:162: UserWarning: PySoundFile failed. Trying audioread instead.\n",
      "  warnings.warn(\"PySoundFile failed. Trying audioread instead.\")\n"
     ]
    }
   ],
   "source": [
    "mean_mel = []\n",
    "var_mel = []\n",
    "\n",
    "for i in range(len(kpop_file_list)):\n",
    "    y, sr = librosa.load('/home/ubuntu/DA/k-pop/'+ kpop_file_list[i])\n",
    "    y = split_wav(y, sr, 60, 120)\n",
    "    s = librosa.feature.melspectrogram(y, sr)\n",
    "    s_DB = librosa.amplitude_to_db(s, ref = np.max)\n",
    "    mean_s_DB = np.mean(s_DB)\n",
    "    mean_mel.append(mean_s_DB)\n",
    "    var_s_DB = np.var(s_DB)\n",
    "    var_mel.append(var_s_DB)\n",
    "\n",
    "kpop_df['mean_mel2'] = pd.DataFrame(mean_mel)\n",
    "kpop_df['var_mel2'] = pd.DataFrame(var_mel)"
   ]
  },
  {
   "cell_type": "code",
   "execution_count": 26,
   "id": "6076770a",
   "metadata": {},
   "outputs": [
    {
     "name": "stderr",
     "output_type": "stream",
     "text": [
      "/usr/local/lib/python3.6/dist-packages/librosa/core/audio.py:162: UserWarning: PySoundFile failed. Trying audioread instead.\n",
      "  warnings.warn(\"PySoundFile failed. Trying audioread instead.\")\n",
      "/usr/local/lib/python3.6/dist-packages/librosa/core/audio.py:162: UserWarning: PySoundFile failed. Trying audioread instead.\n",
      "  warnings.warn(\"PySoundFile failed. Trying audioread instead.\")\n",
      "/usr/local/lib/python3.6/dist-packages/librosa/core/audio.py:162: UserWarning: PySoundFile failed. Trying audioread instead.\n",
      "  warnings.warn(\"PySoundFile failed. Trying audioread instead.\")\n",
      "/usr/local/lib/python3.6/dist-packages/librosa/core/audio.py:162: UserWarning: PySoundFile failed. Trying audioread instead.\n",
      "  warnings.warn(\"PySoundFile failed. Trying audioread instead.\")\n",
      "/usr/local/lib/python3.6/dist-packages/librosa/core/audio.py:162: UserWarning: PySoundFile failed. Trying audioread instead.\n",
      "  warnings.warn(\"PySoundFile failed. Trying audioread instead.\")\n",
      "/usr/local/lib/python3.6/dist-packages/librosa/core/audio.py:162: UserWarning: PySoundFile failed. Trying audioread instead.\n",
      "  warnings.warn(\"PySoundFile failed. Trying audioread instead.\")\n",
      "/usr/local/lib/python3.6/dist-packages/librosa/core/audio.py:162: UserWarning: PySoundFile failed. Trying audioread instead.\n",
      "  warnings.warn(\"PySoundFile failed. Trying audioread instead.\")\n",
      "/usr/local/lib/python3.6/dist-packages/librosa/core/audio.py:162: UserWarning: PySoundFile failed. Trying audioread instead.\n",
      "  warnings.warn(\"PySoundFile failed. Trying audioread instead.\")\n"
     ]
    }
   ],
   "source": [
    "#Harmonic and Percussive components\n",
    "#Harmonics: 사람의 귀로 구분할 수 없는 특징들 (음악의 색깔)\n",
    "#음악의 색깔은 평균 추출\n",
    "#Percussives: 리듬과 감정을 나타내는 충격파\n",
    "#충격파는 min과 max를 추출\n",
    "mean_h = []\n",
    "var_h = []\n",
    "mean_p = []\n",
    "var_p = []\n",
    "\n",
    "for i in range(len(kpop_file_list)):\n",
    "    y, sr = librosa.load('/home/ubuntu/DA/k-pop/'+ kpop_file_list[i])\n",
    "    y = split_wav(y, sr, 0, 60)\n",
    "    harm, perc = librosa.effects.hpss(y)\n",
    "    mean_h.append(np.mean(harm))\n",
    "    var_h.append(np.var(harm))\n",
    "    mean_p.append(np.mean(perc))\n",
    "    var_p.append(np.var(perc))\n",
    "\n",
    "kpop_df['mean_harm1'] = pd.DataFrame(mean_h)\n",
    "kpop_df['var_harm1'] = pd.DataFrame(var_h)\n",
    "kpop_df['mean_perc1'] = pd.DataFrame(mean_p)\n",
    "kpop_df['var_perc1'] = pd.DataFrame(var_p)"
   ]
  },
  {
   "cell_type": "code",
   "execution_count": 27,
   "id": "dc1e0f79",
   "metadata": {},
   "outputs": [
    {
     "name": "stderr",
     "output_type": "stream",
     "text": [
      "/usr/local/lib/python3.6/dist-packages/librosa/core/audio.py:162: UserWarning: PySoundFile failed. Trying audioread instead.\n",
      "  warnings.warn(\"PySoundFile failed. Trying audioread instead.\")\n",
      "/usr/local/lib/python3.6/dist-packages/librosa/core/audio.py:162: UserWarning: PySoundFile failed. Trying audioread instead.\n",
      "  warnings.warn(\"PySoundFile failed. Trying audioread instead.\")\n",
      "/usr/local/lib/python3.6/dist-packages/librosa/core/audio.py:162: UserWarning: PySoundFile failed. Trying audioread instead.\n",
      "  warnings.warn(\"PySoundFile failed. Trying audioread instead.\")\n",
      "/usr/local/lib/python3.6/dist-packages/librosa/core/audio.py:162: UserWarning: PySoundFile failed. Trying audioread instead.\n",
      "  warnings.warn(\"PySoundFile failed. Trying audioread instead.\")\n",
      "/usr/local/lib/python3.6/dist-packages/librosa/core/audio.py:162: UserWarning: PySoundFile failed. Trying audioread instead.\n",
      "  warnings.warn(\"PySoundFile failed. Trying audioread instead.\")\n",
      "/usr/local/lib/python3.6/dist-packages/librosa/core/audio.py:162: UserWarning: PySoundFile failed. Trying audioread instead.\n",
      "  warnings.warn(\"PySoundFile failed. Trying audioread instead.\")\n",
      "/usr/local/lib/python3.6/dist-packages/librosa/core/audio.py:162: UserWarning: PySoundFile failed. Trying audioread instead.\n",
      "  warnings.warn(\"PySoundFile failed. Trying audioread instead.\")\n",
      "/usr/local/lib/python3.6/dist-packages/librosa/core/audio.py:162: UserWarning: PySoundFile failed. Trying audioread instead.\n",
      "  warnings.warn(\"PySoundFile failed. Trying audioread instead.\")\n"
     ]
    }
   ],
   "source": [
    "#Harmonic and Percussive components\n",
    "#Harmonics: 사람의 귀로 구분할 수 없는 특징들 (음악의 색깔)\n",
    "#음악의 색깔은 평균 추출\n",
    "#Percussives: 리듬과 감정을 나타내는 충격파\n",
    "#충격파는 min과 max를 추출\n",
    "mean_h = []\n",
    "var_h = []\n",
    "mean_p = []\n",
    "var_p = []\n",
    "for i in range(len(kpop_file_list)):\n",
    "    y, sr = librosa.load('/home/ubuntu/DA/k-pop/'+ kpop_file_list[i])\n",
    "    y = split_wav(y, sr, 60, 120)\n",
    "    harm, perc = librosa.effects.hpss(y)\n",
    "    mean_h.append(np.mean(harm))\n",
    "    var_h.append(np.var(harm))\n",
    "    mean_p.append(np.mean(perc))\n",
    "    var_p.append(np.var(perc))\n",
    "\n",
    "kpop_df['mean_harm2'] = pd.DataFrame(mean_h)\n",
    "kpop_df['var_harm2'] = pd.DataFrame(var_h)\n",
    "kpop_df['mean_perc2'] = pd.DataFrame(mean_p)\n",
    "kpop_df['var_perc2'] = pd.DataFrame(var_p)"
   ]
  },
  {
   "cell_type": "code",
   "execution_count": 28,
   "id": "c29c1bf2",
   "metadata": {},
   "outputs": [],
   "source": [
    "kpop_df.to_csv('kpop_df_semi.csv')"
   ]
  },
  {
   "cell_type": "code",
   "execution_count": 29,
   "id": "c91d5558",
   "metadata": {},
   "outputs": [
    {
     "name": "stderr",
     "output_type": "stream",
     "text": [
      "/usr/local/lib/python3.6/dist-packages/librosa/core/audio.py:162: UserWarning: PySoundFile failed. Trying audioread instead.\n",
      "  warnings.warn(\"PySoundFile failed. Trying audioread instead.\")\n",
      "/usr/local/lib/python3.6/dist-packages/librosa/core/audio.py:162: UserWarning: PySoundFile failed. Trying audioread instead.\n",
      "  warnings.warn(\"PySoundFile failed. Trying audioread instead.\")\n",
      "/usr/local/lib/python3.6/dist-packages/librosa/core/audio.py:162: UserWarning: PySoundFile failed. Trying audioread instead.\n",
      "  warnings.warn(\"PySoundFile failed. Trying audioread instead.\")\n",
      "/usr/local/lib/python3.6/dist-packages/librosa/core/audio.py:162: UserWarning: PySoundFile failed. Trying audioread instead.\n",
      "  warnings.warn(\"PySoundFile failed. Trying audioread instead.\")\n",
      "/usr/local/lib/python3.6/dist-packages/librosa/core/audio.py:162: UserWarning: PySoundFile failed. Trying audioread instead.\n",
      "  warnings.warn(\"PySoundFile failed. Trying audioread instead.\")\n",
      "/usr/local/lib/python3.6/dist-packages/librosa/core/audio.py:162: UserWarning: PySoundFile failed. Trying audioread instead.\n",
      "  warnings.warn(\"PySoundFile failed. Trying audioread instead.\")\n",
      "/usr/local/lib/python3.6/dist-packages/librosa/core/audio.py:162: UserWarning: PySoundFile failed. Trying audioread instead.\n",
      "  warnings.warn(\"PySoundFile failed. Trying audioread instead.\")\n",
      "/usr/local/lib/python3.6/dist-packages/librosa/core/audio.py:162: UserWarning: PySoundFile failed. Trying audioread instead.\n",
      "  warnings.warn(\"PySoundFile failed. Trying audioread instead.\")\n"
     ]
    }
   ],
   "source": [
    "#Spectral Centroid: 주파수의 가중편균을 계산하여 소리의 무게중심이 어딘지를 알려주는 지표\n",
    "import sklearn\n",
    "def normalize(x, axis = 0):\n",
    "    return sklearn.preprocessing.minmax_scale(x, axis = axis)\n",
    "\n",
    "spectral_centroid_mean = []\n",
    "spectral_centroid_var = []\n",
    "\n",
    "for i in range(len(kpop_file_list)):\n",
    "    y, sr = librosa.load('/home/ubuntu/DA/k-pop/'+ kpop_file_list[i])\n",
    "    y = split_wav(y, sr, 0, 60)\n",
    "    sc = librosa.feature.spectral_centroid(y, sr)[0]\n",
    "    spectral_centroid_mean.append(np.mean(normalize(sc)))\n",
    "    spectral_centroid_var.append(np.var(normalize(sc)))\n",
    "\n",
    "kpop_df['mean_sc1'] = pd.DataFrame(spectral_centroid_mean)\n",
    "kpop_df['var_sc1'] = pd.DataFrame(spectral_centroid_var)  "
   ]
  },
  {
   "cell_type": "code",
   "execution_count": 30,
   "id": "39ebbfd9",
   "metadata": {},
   "outputs": [
    {
     "name": "stderr",
     "output_type": "stream",
     "text": [
      "/usr/local/lib/python3.6/dist-packages/librosa/core/audio.py:162: UserWarning: PySoundFile failed. Trying audioread instead.\n",
      "  warnings.warn(\"PySoundFile failed. Trying audioread instead.\")\n",
      "/usr/local/lib/python3.6/dist-packages/librosa/core/audio.py:162: UserWarning: PySoundFile failed. Trying audioread instead.\n",
      "  warnings.warn(\"PySoundFile failed. Trying audioread instead.\")\n",
      "/usr/local/lib/python3.6/dist-packages/librosa/core/audio.py:162: UserWarning: PySoundFile failed. Trying audioread instead.\n",
      "  warnings.warn(\"PySoundFile failed. Trying audioread instead.\")\n",
      "/usr/local/lib/python3.6/dist-packages/librosa/core/audio.py:162: UserWarning: PySoundFile failed. Trying audioread instead.\n",
      "  warnings.warn(\"PySoundFile failed. Trying audioread instead.\")\n",
      "/usr/local/lib/python3.6/dist-packages/librosa/core/audio.py:162: UserWarning: PySoundFile failed. Trying audioread instead.\n",
      "  warnings.warn(\"PySoundFile failed. Trying audioread instead.\")\n",
      "/usr/local/lib/python3.6/dist-packages/librosa/core/audio.py:162: UserWarning: PySoundFile failed. Trying audioread instead.\n",
      "  warnings.warn(\"PySoundFile failed. Trying audioread instead.\")\n",
      "/usr/local/lib/python3.6/dist-packages/librosa/core/audio.py:162: UserWarning: PySoundFile failed. Trying audioread instead.\n",
      "  warnings.warn(\"PySoundFile failed. Trying audioread instead.\")\n",
      "/usr/local/lib/python3.6/dist-packages/librosa/core/audio.py:162: UserWarning: PySoundFile failed. Trying audioread instead.\n",
      "  warnings.warn(\"PySoundFile failed. Trying audioread instead.\")\n"
     ]
    }
   ],
   "source": [
    "#Spectral Centroid: 주파수의 가중편균을 계산하여 소리의 무게중심이 어딘지를 알려주는 지표\n",
    "import sklearn\n",
    "def normalize(x, axis = 0):\n",
    "    return sklearn.preprocessing.minmax_scale(x, axis = axis)\n",
    "\n",
    "spectral_centroid_mean = []\n",
    "spectral_centroid_var = []\n",
    "\n",
    "for i in range(len(kpop_file_list)):\n",
    "    y, sr = librosa.load('/home/ubuntu/DA/k-pop/'+ kpop_file_list[i])\n",
    "    y = split_wav(y, sr, 60, 120)\n",
    "    sc = librosa.feature.spectral_centroid(y, sr)[0]\n",
    "    spectral_centroid_mean.append(np.mean(normalize(sc)))\n",
    "    spectral_centroid_var.append(np.var(normalize(sc)))\n",
    "\n",
    "kpop_df['mean_sc2'] = pd.DataFrame(spectral_centroid_mean)\n",
    "kpop_df['var_sc2'] = pd.DataFrame(spectral_centroid_var)  "
   ]
  },
  {
   "cell_type": "code",
   "execution_count": 31,
   "id": "57da2a1b",
   "metadata": {},
   "outputs": [
    {
     "name": "stderr",
     "output_type": "stream",
     "text": [
      "/usr/local/lib/python3.6/dist-packages/librosa/core/audio.py:162: UserWarning: PySoundFile failed. Trying audioread instead.\n",
      "  warnings.warn(\"PySoundFile failed. Trying audioread instead.\")\n",
      "/usr/local/lib/python3.6/dist-packages/librosa/core/audio.py:162: UserWarning: PySoundFile failed. Trying audioread instead.\n",
      "  warnings.warn(\"PySoundFile failed. Trying audioread instead.\")\n",
      "/usr/local/lib/python3.6/dist-packages/librosa/core/audio.py:162: UserWarning: PySoundFile failed. Trying audioread instead.\n",
      "  warnings.warn(\"PySoundFile failed. Trying audioread instead.\")\n",
      "/usr/local/lib/python3.6/dist-packages/librosa/core/audio.py:162: UserWarning: PySoundFile failed. Trying audioread instead.\n",
      "  warnings.warn(\"PySoundFile failed. Trying audioread instead.\")\n",
      "/usr/local/lib/python3.6/dist-packages/librosa/core/audio.py:162: UserWarning: PySoundFile failed. Trying audioread instead.\n",
      "  warnings.warn(\"PySoundFile failed. Trying audioread instead.\")\n",
      "/usr/local/lib/python3.6/dist-packages/librosa/core/audio.py:162: UserWarning: PySoundFile failed. Trying audioread instead.\n",
      "  warnings.warn(\"PySoundFile failed. Trying audioread instead.\")\n",
      "/usr/local/lib/python3.6/dist-packages/librosa/core/audio.py:162: UserWarning: PySoundFile failed. Trying audioread instead.\n",
      "  warnings.warn(\"PySoundFile failed. Trying audioread instead.\")\n",
      "/usr/local/lib/python3.6/dist-packages/librosa/core/audio.py:162: UserWarning: PySoundFile failed. Trying audioread instead.\n",
      "  warnings.warn(\"PySoundFile failed. Trying audioread instead.\")\n"
     ]
    }
   ],
   "source": [
    "#Chroma Frequencies\n",
    "#인간 청각이 옥타브 차이가 나는 주파수를 가진 두 음을 유사음으로 인지한다는 음악이론에 기반한다.\n",
    "#모든 스펙트럼을 12개의 Bin(각기 다른 반음)으로 표현\n",
    "\n",
    "mean_c = []\n",
    "var_c = []\n",
    "\n",
    "for i in range(len(kpop_file_list)):\n",
    "    y, sr = librosa.load('/home/ubuntu/DA/k-pop/'+ kpop_file_list[i])\n",
    "    y = split_wav(y, sr, 0, 60)\n",
    "    c = librosa.feature.chroma_stft(y, sr, hop_length = 512)\n",
    "    mean_c.append(np.mean(c))\n",
    "    var_c.append(np.var(c))\n",
    "\n",
    "kpop_df['mean_chroma1'] = pd.DataFrame(mean_c)\n",
    "kpop_df['var_chroma1'] = pd.DataFrame(var_c)"
   ]
  },
  {
   "cell_type": "code",
   "execution_count": 32,
   "id": "e04f5dd3",
   "metadata": {},
   "outputs": [
    {
     "name": "stderr",
     "output_type": "stream",
     "text": [
      "/usr/local/lib/python3.6/dist-packages/librosa/core/audio.py:162: UserWarning: PySoundFile failed. Trying audioread instead.\n",
      "  warnings.warn(\"PySoundFile failed. Trying audioread instead.\")\n",
      "/usr/local/lib/python3.6/dist-packages/librosa/core/audio.py:162: UserWarning: PySoundFile failed. Trying audioread instead.\n",
      "  warnings.warn(\"PySoundFile failed. Trying audioread instead.\")\n",
      "/usr/local/lib/python3.6/dist-packages/librosa/core/audio.py:162: UserWarning: PySoundFile failed. Trying audioread instead.\n",
      "  warnings.warn(\"PySoundFile failed. Trying audioread instead.\")\n",
      "/usr/local/lib/python3.6/dist-packages/librosa/core/audio.py:162: UserWarning: PySoundFile failed. Trying audioread instead.\n",
      "  warnings.warn(\"PySoundFile failed. Trying audioread instead.\")\n",
      "/usr/local/lib/python3.6/dist-packages/librosa/core/audio.py:162: UserWarning: PySoundFile failed. Trying audioread instead.\n",
      "  warnings.warn(\"PySoundFile failed. Trying audioread instead.\")\n",
      "/usr/local/lib/python3.6/dist-packages/librosa/core/audio.py:162: UserWarning: PySoundFile failed. Trying audioread instead.\n",
      "  warnings.warn(\"PySoundFile failed. Trying audioread instead.\")\n",
      "/usr/local/lib/python3.6/dist-packages/librosa/core/audio.py:162: UserWarning: PySoundFile failed. Trying audioread instead.\n",
      "  warnings.warn(\"PySoundFile failed. Trying audioread instead.\")\n",
      "/usr/local/lib/python3.6/dist-packages/librosa/core/audio.py:162: UserWarning: PySoundFile failed. Trying audioread instead.\n",
      "  warnings.warn(\"PySoundFile failed. Trying audioread instead.\")\n"
     ]
    }
   ],
   "source": [
    "#Chroma Frequencies\n",
    "#인간 청각이 옥타브 차이가 나는 주파수를 가진 두 음을 유사음으로 인지한다는 음악이론에 기반한다.\n",
    "#모든 스펙트럼을 12개의 Bin(각기 다른 반음)으로 표현\n",
    "\n",
    "mean_c = []\n",
    "var_c = []\n",
    "\n",
    "for i in range(len(kpop_file_list)):\n",
    "    y, sr = librosa.load('/home/ubuntu/DA/k-pop/'+ kpop_file_list[i])\n",
    "    y = split_wav(y, sr, 60, 120)\n",
    "    c = librosa.feature.chroma_stft(y, sr, hop_length = 512)\n",
    "    mean_c.append(np.mean(c))\n",
    "    var_c.append(np.var(c))\n",
    "\n",
    "kpop_df['mean_chroma2'] = pd.DataFrame(mean_c)\n",
    "kpop_df['var_chroma2'] = pd.DataFrame(var_c)"
   ]
  },
  {
   "cell_type": "code",
   "execution_count": 33,
   "id": "3093d25d",
   "metadata": {},
   "outputs": [
    {
     "name": "stderr",
     "output_type": "stream",
     "text": [
      "/usr/local/lib/python3.6/dist-packages/librosa/core/audio.py:162: UserWarning: PySoundFile failed. Trying audioread instead.\n",
      "  warnings.warn(\"PySoundFile failed. Trying audioread instead.\")\n",
      "/usr/local/lib/python3.6/dist-packages/librosa/core/audio.py:162: UserWarning: PySoundFile failed. Trying audioread instead.\n",
      "  warnings.warn(\"PySoundFile failed. Trying audioread instead.\")\n",
      "/usr/local/lib/python3.6/dist-packages/librosa/core/audio.py:162: UserWarning: PySoundFile failed. Trying audioread instead.\n",
      "  warnings.warn(\"PySoundFile failed. Trying audioread instead.\")\n",
      "/usr/local/lib/python3.6/dist-packages/librosa/core/audio.py:162: UserWarning: PySoundFile failed. Trying audioread instead.\n",
      "  warnings.warn(\"PySoundFile failed. Trying audioread instead.\")\n",
      "/usr/local/lib/python3.6/dist-packages/librosa/core/audio.py:162: UserWarning: PySoundFile failed. Trying audioread instead.\n",
      "  warnings.warn(\"PySoundFile failed. Trying audioread instead.\")\n",
      "/usr/local/lib/python3.6/dist-packages/librosa/core/audio.py:162: UserWarning: PySoundFile failed. Trying audioread instead.\n",
      "  warnings.warn(\"PySoundFile failed. Trying audioread instead.\")\n",
      "/usr/local/lib/python3.6/dist-packages/librosa/core/audio.py:162: UserWarning: PySoundFile failed. Trying audioread instead.\n",
      "  warnings.warn(\"PySoundFile failed. Trying audioread instead.\")\n",
      "/usr/local/lib/python3.6/dist-packages/librosa/core/audio.py:162: UserWarning: PySoundFile failed. Trying audioread instead.\n",
      "  warnings.warn(\"PySoundFile failed. Trying audioread instead.\")\n"
     ]
    }
   ],
   "source": [
    "#MFCCs\n",
    "#특징들의 작은 집합으로 스펙트럼 포곡선의 전체적인 모양을 축약해서 보여준다.\n",
    "#사람의 청각 구조를 반영하여 음성 정보 추출\n",
    "\n",
    "mean_m = []\n",
    "var_m = []\n",
    "\n",
    "for i in range(len(kpop_file_list)):\n",
    "    y, sr = librosa.load('/home/ubuntu/DA/k-pop/'+ kpop_file_list[i])\n",
    "    y = split_wav(y, sr, 0, 60)\n",
    "    mfccs = librosa.feature.mfcc(y, sr)\n",
    "    mfccs = normalize(mfccs, axis = 1)\n",
    "    mean_m.append(mfccs.mean())\n",
    "    var_m.append(mfccs.var())\n",
    "\n",
    "kpop_df['mean_mfccs1'] = pd.DataFrame(mean_m)\n",
    "kpop_df['var_mfccs1'] = pd.DataFrame(var_m)"
   ]
  },
  {
   "cell_type": "code",
   "execution_count": 34,
   "id": "9046d288",
   "metadata": {},
   "outputs": [
    {
     "name": "stderr",
     "output_type": "stream",
     "text": [
      "/usr/local/lib/python3.6/dist-packages/librosa/core/audio.py:162: UserWarning: PySoundFile failed. Trying audioread instead.\n",
      "  warnings.warn(\"PySoundFile failed. Trying audioread instead.\")\n",
      "/usr/local/lib/python3.6/dist-packages/librosa/core/audio.py:162: UserWarning: PySoundFile failed. Trying audioread instead.\n",
      "  warnings.warn(\"PySoundFile failed. Trying audioread instead.\")\n",
      "/usr/local/lib/python3.6/dist-packages/librosa/core/audio.py:162: UserWarning: PySoundFile failed. Trying audioread instead.\n",
      "  warnings.warn(\"PySoundFile failed. Trying audioread instead.\")\n",
      "/usr/local/lib/python3.6/dist-packages/librosa/core/audio.py:162: UserWarning: PySoundFile failed. Trying audioread instead.\n",
      "  warnings.warn(\"PySoundFile failed. Trying audioread instead.\")\n",
      "/usr/local/lib/python3.6/dist-packages/librosa/core/audio.py:162: UserWarning: PySoundFile failed. Trying audioread instead.\n",
      "  warnings.warn(\"PySoundFile failed. Trying audioread instead.\")\n",
      "/usr/local/lib/python3.6/dist-packages/librosa/core/audio.py:162: UserWarning: PySoundFile failed. Trying audioread instead.\n",
      "  warnings.warn(\"PySoundFile failed. Trying audioread instead.\")\n",
      "/usr/local/lib/python3.6/dist-packages/librosa/core/audio.py:162: UserWarning: PySoundFile failed. Trying audioread instead.\n",
      "  warnings.warn(\"PySoundFile failed. Trying audioread instead.\")\n",
      "/usr/local/lib/python3.6/dist-packages/librosa/core/audio.py:162: UserWarning: PySoundFile failed. Trying audioread instead.\n",
      "  warnings.warn(\"PySoundFile failed. Trying audioread instead.\")\n"
     ]
    }
   ],
   "source": [
    "#MFCCs\n",
    "#특징들의 작은 집합으로 스펙트럼 포곡선의 전체적인 모양을 축약해서 보여준다.\n",
    "#사람의 청각 구조를 반영하여 음성 정보 추출\n",
    "\n",
    "mean_m = []\n",
    "var_m = []\n",
    "\n",
    "for i in range(len(kpop_file_list)):\n",
    "    y, sr = librosa.load('/home/ubuntu/DA/k-pop/'+ kpop_file_list[i])\n",
    "    y = split_wav(y, sr, 60, 120)\n",
    "    mfccs = librosa.feature.mfcc(y, sr)\n",
    "    mfccs = normalize(mfccs, axis = 1)\n",
    "    mean_m.append(mfccs.mean())\n",
    "    var_m.append(mfccs.var())\n",
    "\n",
    "kpop_df['mean_mfccs2'] = pd.DataFrame(mean_m)\n",
    "kpop_df['var_mfccs2'] = pd.DataFrame(var_m)"
   ]
  },
  {
   "cell_type": "code",
   "execution_count": 35,
   "id": "f105c1ac",
   "metadata": {},
   "outputs": [
    {
     "name": "stderr",
     "output_type": "stream",
     "text": [
      "/usr/local/lib/python3.6/dist-packages/librosa/core/audio.py:162: UserWarning: PySoundFile failed. Trying audioread instead.\n",
      "  warnings.warn(\"PySoundFile failed. Trying audioread instead.\")\n",
      "/usr/local/lib/python3.6/dist-packages/librosa/core/audio.py:162: UserWarning: PySoundFile failed. Trying audioread instead.\n",
      "  warnings.warn(\"PySoundFile failed. Trying audioread instead.\")\n",
      "/usr/local/lib/python3.6/dist-packages/librosa/core/audio.py:162: UserWarning: PySoundFile failed. Trying audioread instead.\n",
      "  warnings.warn(\"PySoundFile failed. Trying audioread instead.\")\n",
      "/usr/local/lib/python3.6/dist-packages/librosa/core/audio.py:162: UserWarning: PySoundFile failed. Trying audioread instead.\n",
      "  warnings.warn(\"PySoundFile failed. Trying audioread instead.\")\n",
      "/usr/local/lib/python3.6/dist-packages/librosa/core/audio.py:162: UserWarning: PySoundFile failed. Trying audioread instead.\n",
      "  warnings.warn(\"PySoundFile failed. Trying audioread instead.\")\n",
      "/usr/local/lib/python3.6/dist-packages/librosa/core/audio.py:162: UserWarning: PySoundFile failed. Trying audioread instead.\n",
      "  warnings.warn(\"PySoundFile failed. Trying audioread instead.\")\n",
      "/usr/local/lib/python3.6/dist-packages/librosa/core/audio.py:162: UserWarning: PySoundFile failed. Trying audioread instead.\n",
      "  warnings.warn(\"PySoundFile failed. Trying audioread instead.\")\n",
      "/usr/local/lib/python3.6/dist-packages/librosa/core/audio.py:162: UserWarning: PySoundFile failed. Trying audioread instead.\n",
      "  warnings.warn(\"PySoundFile failed. Trying audioread instead.\")\n"
     ]
    }
   ],
   "source": [
    "#zero crossing rate\n",
    "zero_crossings_mean = []\n",
    "zero_crossings_var = []\n",
    "\n",
    "for i in range(len(kpop_file_list)):\n",
    "    y, sr = librosa.load('/home/ubuntu/DA/k-pop/'+ kpop_file_list[i])\n",
    "    y = split_wav(y, sr, 0, 60)\n",
    "    zc = librosa.zero_crossings(y, pad = False)\n",
    "    zero_crossings_mean.append(np.mean(zc))\n",
    "    zero_crossings_var.append(np.var(zc))\n",
    "\n",
    "kpop_df['zero_crossings_mean1'] = pd.DataFrame(zero_crossings_mean)    \n",
    "kpop_df['zero_crossings_var1'] = pd.DataFrame(zero_crossings_var)  "
   ]
  },
  {
   "cell_type": "code",
   "execution_count": 36,
   "id": "c8d66907",
   "metadata": {},
   "outputs": [
    {
     "name": "stderr",
     "output_type": "stream",
     "text": [
      "/usr/local/lib/python3.6/dist-packages/librosa/core/audio.py:162: UserWarning: PySoundFile failed. Trying audioread instead.\n",
      "  warnings.warn(\"PySoundFile failed. Trying audioread instead.\")\n",
      "/usr/local/lib/python3.6/dist-packages/librosa/core/audio.py:162: UserWarning: PySoundFile failed. Trying audioread instead.\n",
      "  warnings.warn(\"PySoundFile failed. Trying audioread instead.\")\n",
      "/usr/local/lib/python3.6/dist-packages/librosa/core/audio.py:162: UserWarning: PySoundFile failed. Trying audioread instead.\n",
      "  warnings.warn(\"PySoundFile failed. Trying audioread instead.\")\n",
      "/usr/local/lib/python3.6/dist-packages/librosa/core/audio.py:162: UserWarning: PySoundFile failed. Trying audioread instead.\n",
      "  warnings.warn(\"PySoundFile failed. Trying audioread instead.\")\n",
      "/usr/local/lib/python3.6/dist-packages/librosa/core/audio.py:162: UserWarning: PySoundFile failed. Trying audioread instead.\n",
      "  warnings.warn(\"PySoundFile failed. Trying audioread instead.\")\n",
      "/usr/local/lib/python3.6/dist-packages/librosa/core/audio.py:162: UserWarning: PySoundFile failed. Trying audioread instead.\n",
      "  warnings.warn(\"PySoundFile failed. Trying audioread instead.\")\n",
      "/usr/local/lib/python3.6/dist-packages/librosa/core/audio.py:162: UserWarning: PySoundFile failed. Trying audioread instead.\n",
      "  warnings.warn(\"PySoundFile failed. Trying audioread instead.\")\n",
      "/usr/local/lib/python3.6/dist-packages/librosa/core/audio.py:162: UserWarning: PySoundFile failed. Trying audioread instead.\n",
      "  warnings.warn(\"PySoundFile failed. Trying audioread instead.\")\n"
     ]
    }
   ],
   "source": [
    "#zero crossing rate\n",
    "zero_crossings_mean = []\n",
    "zero_crossings_var = []\n",
    "\n",
    "for i in range(len(kpop_file_list)):\n",
    "    y, sr = librosa.load('/home/ubuntu/DA/k-pop/'+ kpop_file_list[i])\n",
    "    y = split_wav(y, sr, 60, 120)\n",
    "    zc = librosa.zero_crossings(y, pad = False)\n",
    "    zero_crossings_mean.append(np.mean(zc))\n",
    "    zero_crossings_var.append(np.var(zc))\n",
    "\n",
    "kpop_df['zero_crossings_mean2'] = pd.DataFrame(zero_crossings_mean)    \n",
    "kpop_df['zero_crossings_var2'] = pd.DataFrame(zero_crossings_var)  "
   ]
  },
  {
   "cell_type": "code",
   "execution_count": 37,
   "id": "4b9e2a6b",
   "metadata": {},
   "outputs": [],
   "source": [
    "kpop_df.to_csv('kpop_df.csv')"
   ]
  }
 ],
 "metadata": {
  "kernelspec": {
   "display_name": "Python 3",
   "language": "python",
   "name": "python3"
  },
  "language_info": {
   "codemirror_mode": {
    "name": "ipython",
    "version": 3
   },
   "file_extension": ".py",
   "mimetype": "text/x-python",
   "name": "python",
   "nbconvert_exporter": "python",
   "pygments_lexer": "ipython3",
   "version": "3.6.9"
  }
 },
 "nbformat": 4,
 "nbformat_minor": 5
}
